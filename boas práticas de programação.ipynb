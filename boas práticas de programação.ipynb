{
 "cells": [
  {
   "cell_type": "markdown",
   "id": "fc6bef19",
   "metadata": {},
   "source": [
    "## Ambientes virtuais\n",
    "\n",
    "use ambientes virtuais pra \"encapsular\" seu projeto, utilizar apenas os pacotes necessários e evitar problemas de versões de pacotes\n",
    "* crie o ambiente virtual: virtualenv venv (ou python -m venv venv)\n",
    "* ative o ambiente virtual: [LINUX E MACOS] source venv/bin/activate, [WINDOWS]  .\\venv\\Scripts\\activate"
   ]
  },
  {
   "cell_type": "markdown",
   "id": "59e1eebc",
   "metadata": {},
   "source": [
    "## Comentários\n",
    "\n",
    "* comente bastante o código para que os outros possam entender"
   ]
  },
  {
   "cell_type": "code",
   "execution_count": 1,
   "id": "403a6ba7",
   "metadata": {},
   "outputs": [],
   "source": [
    "# pandas - carrega os dados, transforma em tabelas e permite operações na tabela\n",
    "import pandas as pd\n",
    "\n",
    "# numpy - computação científica\n",
    "import numpy as np"
   ]
  },
  {
   "cell_type": "markdown",
   "id": "fa26c03c",
   "metadata": {},
   "source": [
    "## nome de variáveis\n",
    "\n",
    "* escreva o nome das variáveis de uma forma compreensível e com underscore (_)"
   ]
  },
  {
   "cell_type": "code",
   "execution_count": 2,
   "id": "7e00295f",
   "metadata": {},
   "outputs": [],
   "source": [
    "# exemplo: criar uma lista de frutas, unidades e dias da semana"
   ]
  },
  {
   "cell_type": "code",
   "execution_count": 3,
   "id": "d9b67486",
   "metadata": {},
   "outputs": [],
   "source": [
    "# EVITAR\n",
    "f = ['banana', 'uva', 'abacaxi']\n",
    "c = ['azul', 'amarelo', 'verde']\n",
    "d = ['quinta', 'sexta', 'sabado']"
   ]
  },
  {
   "cell_type": "code",
   "execution_count": 4,
   "id": "e51dcf5f",
   "metadata": {},
   "outputs": [],
   "source": [
    "# OK\n",
    "frutas = ['banana', 'uva', 'abacaxi']\n",
    "cores = ['azul', 'amarelo', 'verde']\n",
    "dias_da_semana = ['quinta', 'sexta', 'sabado']"
   ]
  },
  {
   "cell_type": "markdown",
   "id": "6635f594",
   "metadata": {},
   "source": [
    "## opte pelo simples SEMPRE\n",
    "por exemplo: utilização de variáveis em for loops"
   ]
  },
  {
   "cell_type": "code",
   "execution_count": 5,
   "id": "005cc1a9",
   "metadata": {},
   "outputs": [],
   "source": [
    "# exemplo: iterar entre frutas e cores"
   ]
  },
  {
   "cell_type": "code",
   "execution_count": 6,
   "id": "8df5cf99",
   "metadata": {},
   "outputs": [
    {
     "name": "stdout",
     "output_type": "stream",
     "text": [
      "banana azul\n",
      "banana amarelo\n",
      "banana verde\n",
      "uva azul\n",
      "uva amarelo\n",
      "uva verde\n",
      "abacaxi azul\n",
      "abacaxi amarelo\n",
      "abacaxi verde\n"
     ]
    }
   ],
   "source": [
    "# EVITAR\n",
    "for i in range(len(f)):\n",
    "    for j in range(len(c)):\n",
    "        print(f[i], c[j])"
   ]
  },
  {
   "cell_type": "code",
   "execution_count": 7,
   "id": "196029a8",
   "metadata": {},
   "outputs": [
    {
     "name": "stdout",
     "output_type": "stream",
     "text": [
      "banana azul\n",
      "banana amarelo\n",
      "banana verde\n",
      "uva azul\n",
      "uva amarelo\n",
      "uva verde\n",
      "abacaxi azul\n",
      "abacaxi amarelo\n",
      "abacaxi verde\n"
     ]
    }
   ],
   "source": [
    "# OK\n",
    "for fruta in frutas:\n",
    "    for cor in cores:\n",
    "        print(fruta, cor)"
   ]
  },
  {
   "cell_type": "markdown",
   "id": "b8a77575",
   "metadata": {},
   "source": [
    "## DRY: DO NOT REPEAT YOURSELF! \n",
    "extremamente importante para quando o código estiver crescendo"
   ]
  },
  {
   "cell_type": "code",
   "execution_count": 8,
   "id": "77349d18",
   "metadata": {},
   "outputs": [],
   "source": [
    "# criar dataframe com temperaturas em celsius para os dias da semana"
   ]
  },
  {
   "cell_type": "code",
   "execution_count": 9,
   "id": "07e4897b",
   "metadata": {},
   "outputs": [
    {
     "data": {
      "text/html": [
       "<div>\n",
       "<style scoped>\n",
       "    .dataframe tbody tr th:only-of-type {\n",
       "        vertical-align: middle;\n",
       "    }\n",
       "\n",
       "    .dataframe tbody tr th {\n",
       "        vertical-align: top;\n",
       "    }\n",
       "\n",
       "    .dataframe thead th {\n",
       "        text-align: right;\n",
       "    }\n",
       "</style>\n",
       "<table border=\"1\" class=\"dataframe\">\n",
       "  <thead>\n",
       "    <tr style=\"text-align: right;\">\n",
       "      <th></th>\n",
       "      <th>celsius</th>\n",
       "    </tr>\n",
       "  </thead>\n",
       "  <tbody>\n",
       "    <tr>\n",
       "      <th>quinta</th>\n",
       "      <td>7</td>\n",
       "    </tr>\n",
       "    <tr>\n",
       "      <th>sexta</th>\n",
       "      <td>22</td>\n",
       "    </tr>\n",
       "    <tr>\n",
       "      <th>sabado</th>\n",
       "      <td>30</td>\n",
       "    </tr>\n",
       "  </tbody>\n",
       "</table>\n",
       "</div>"
      ],
      "text/plain": [
       "        celsius\n",
       "quinta        7\n",
       "sexta        22\n",
       "sabado       30"
      ]
     },
     "execution_count": 9,
     "metadata": {},
     "output_type": "execute_result"
    }
   ],
   "source": [
    "temperatura = {'celsius': [7, 22, 30]}\n",
    "dados_temperatura = pd.DataFrame(temperatura, index=dias_da_semana)\n",
    "dados_temperatura"
   ]
  },
  {
   "cell_type": "code",
   "execution_count": 10,
   "id": "6ac2da9c",
   "metadata": {},
   "outputs": [],
   "source": [
    "# exemplo: fazer a conversão de celsius para fahrenheit"
   ]
  },
  {
   "cell_type": "code",
   "execution_count": 11,
   "id": "6dfe4f33",
   "metadata": {},
   "outputs": [],
   "source": [
    "# EVITAR\n",
    "temperatura_quinta = 1.8 * dados_temperatura['celsius']['quinta'] + 32\n",
    "temperatura_sexta = 1.8 * dados_temperatura['celsius']['sexta'] + 32\n",
    "temperatura_sabado = 1.8 * dados_temperatura['celsius']['sabado'] + 32\n",
    "\n",
    "dados_temperatura['fahrenheit'] = [temperatura_quinta, temperatura_sexta, temperatura_sabado]"
   ]
  },
  {
   "cell_type": "code",
   "execution_count": 12,
   "id": "a735c3e1",
   "metadata": {},
   "outputs": [],
   "source": [
    "# OK\n",
    "dados_temperatura['fahrenheit'] = 1.8 * dados_temperatura['celsius'] + 32"
   ]
  },
  {
   "cell_type": "code",
   "execution_count": 13,
   "id": "fd8f25da",
   "metadata": {},
   "outputs": [
    {
     "data": {
      "text/html": [
       "<div>\n",
       "<style scoped>\n",
       "    .dataframe tbody tr th:only-of-type {\n",
       "        vertical-align: middle;\n",
       "    }\n",
       "\n",
       "    .dataframe tbody tr th {\n",
       "        vertical-align: top;\n",
       "    }\n",
       "\n",
       "    .dataframe thead th {\n",
       "        text-align: right;\n",
       "    }\n",
       "</style>\n",
       "<table border=\"1\" class=\"dataframe\">\n",
       "  <thead>\n",
       "    <tr style=\"text-align: right;\">\n",
       "      <th></th>\n",
       "      <th>celsius</th>\n",
       "      <th>fahrenheit</th>\n",
       "    </tr>\n",
       "  </thead>\n",
       "  <tbody>\n",
       "    <tr>\n",
       "      <th>quinta</th>\n",
       "      <td>7</td>\n",
       "      <td>44.6</td>\n",
       "    </tr>\n",
       "    <tr>\n",
       "      <th>sexta</th>\n",
       "      <td>22</td>\n",
       "      <td>71.6</td>\n",
       "    </tr>\n",
       "    <tr>\n",
       "      <th>sabado</th>\n",
       "      <td>30</td>\n",
       "      <td>86.0</td>\n",
       "    </tr>\n",
       "  </tbody>\n",
       "</table>\n",
       "</div>"
      ],
      "text/plain": [
       "        celsius  fahrenheit\n",
       "quinta        7        44.6\n",
       "sexta        22        71.6\n",
       "sabado       30        86.0"
      ]
     },
     "execution_count": 13,
     "metadata": {},
     "output_type": "execute_result"
    }
   ],
   "source": [
    "dados_temperatura"
   ]
  },
  {
   "cell_type": "markdown",
   "id": "9df2d31b",
   "metadata": {},
   "source": [
    "## PLUS: iteração entre linhas no dataframe do pandas"
   ]
  },
  {
   "cell_type": "code",
   "execution_count": 14,
   "id": "de184f53",
   "metadata": {},
   "outputs": [],
   "source": [
    "# exemplo: criar coluna de sensação termica"
   ]
  },
  {
   "cell_type": "code",
   "execution_count": 15,
   "id": "54be15c2",
   "metadata": {},
   "outputs": [
    {
     "name": "stderr",
     "output_type": "stream",
     "text": [
      "/var/folders/kd/wgbr6mqj4v1bpv6n6fvs2hf40000gn/T/ipykernel_2886/1968894239.py:12: SettingWithCopyWarning: \n",
      "A value is trying to be set on a copy of a slice from a DataFrame\n",
      "\n",
      "See the caveats in the documentation: https://pandas.pydata.org/pandas-docs/stable/user_guide/indexing.html#returning-a-view-versus-a-copy\n",
      "  dados_temperatura['sensacao'].iloc[i] = sensacao\n"
     ]
    }
   ],
   "source": [
    "# EVITAR\n",
    "\n",
    "dados_temperatura['sensacao'] = np.nan\n",
    "\n",
    "for i in range(len(dados_temperatura)):\n",
    "    if dados_temperatura['celsius'].iloc[i] < 18:\n",
    "        sensacao = 'frio'\n",
    "    elif dados_temperatura['celsius'].iloc[i] >= 18 and dados_temperatura['celsius'].iloc[i]<= 28:\n",
    "        sensacao = 'agradavel'\n",
    "    else:\n",
    "        sensacao = 'quente'\n",
    "    dados_temperatura['sensacao'].iloc[i] = sensacao"
   ]
  },
  {
   "cell_type": "code",
   "execution_count": 16,
   "id": "0c8e86a8",
   "metadata": {},
   "outputs": [
    {
     "data": {
      "text/html": [
       "<div>\n",
       "<style scoped>\n",
       "    .dataframe tbody tr th:only-of-type {\n",
       "        vertical-align: middle;\n",
       "    }\n",
       "\n",
       "    .dataframe tbody tr th {\n",
       "        vertical-align: top;\n",
       "    }\n",
       "\n",
       "    .dataframe thead th {\n",
       "        text-align: right;\n",
       "    }\n",
       "</style>\n",
       "<table border=\"1\" class=\"dataframe\">\n",
       "  <thead>\n",
       "    <tr style=\"text-align: right;\">\n",
       "      <th></th>\n",
       "      <th>celsius</th>\n",
       "      <th>fahrenheit</th>\n",
       "      <th>sensacao</th>\n",
       "    </tr>\n",
       "  </thead>\n",
       "  <tbody>\n",
       "    <tr>\n",
       "      <th>quinta</th>\n",
       "      <td>7</td>\n",
       "      <td>44.6</td>\n",
       "      <td>frio</td>\n",
       "    </tr>\n",
       "    <tr>\n",
       "      <th>sexta</th>\n",
       "      <td>22</td>\n",
       "      <td>71.6</td>\n",
       "      <td>agradavel</td>\n",
       "    </tr>\n",
       "    <tr>\n",
       "      <th>sabado</th>\n",
       "      <td>30</td>\n",
       "      <td>86.0</td>\n",
       "      <td>quente</td>\n",
       "    </tr>\n",
       "  </tbody>\n",
       "</table>\n",
       "</div>"
      ],
      "text/plain": [
       "        celsius  fahrenheit   sensacao\n",
       "quinta        7        44.6       frio\n",
       "sexta        22        71.6  agradavel\n",
       "sabado       30        86.0     quente"
      ]
     },
     "execution_count": 16,
     "metadata": {},
     "output_type": "execute_result"
    }
   ],
   "source": [
    "dados_temperatura"
   ]
  },
  {
   "cell_type": "code",
   "execution_count": 17,
   "id": "93232cc2",
   "metadata": {},
   "outputs": [],
   "source": [
    "# OK\n",
    "import numpy as np\n",
    "dados_temperatura['sensacao'] = np.nan\n",
    "\n",
    "for index, row in dados_temperatura.iterrows():\n",
    "    if row['celsius'] < 18:\n",
    "        sensacao = 'frio'\n",
    "    elif row['celsius'] >= 18 and row['celsius']<= 28:\n",
    "        sensacao = 'agradavel'\n",
    "    else:\n",
    "        sensacao = 'quente'\n",
    "    dados_temperatura.loc[index, 'sensacao'] = sensacao"
   ]
  },
  {
   "cell_type": "code",
   "execution_count": 18,
   "id": "4dc56ab1",
   "metadata": {},
   "outputs": [
    {
     "data": {
      "text/html": [
       "<div>\n",
       "<style scoped>\n",
       "    .dataframe tbody tr th:only-of-type {\n",
       "        vertical-align: middle;\n",
       "    }\n",
       "\n",
       "    .dataframe tbody tr th {\n",
       "        vertical-align: top;\n",
       "    }\n",
       "\n",
       "    .dataframe thead th {\n",
       "        text-align: right;\n",
       "    }\n",
       "</style>\n",
       "<table border=\"1\" class=\"dataframe\">\n",
       "  <thead>\n",
       "    <tr style=\"text-align: right;\">\n",
       "      <th></th>\n",
       "      <th>celsius</th>\n",
       "      <th>fahrenheit</th>\n",
       "      <th>sensacao</th>\n",
       "    </tr>\n",
       "  </thead>\n",
       "  <tbody>\n",
       "    <tr>\n",
       "      <th>quinta</th>\n",
       "      <td>7</td>\n",
       "      <td>44.6</td>\n",
       "      <td>frio</td>\n",
       "    </tr>\n",
       "    <tr>\n",
       "      <th>sexta</th>\n",
       "      <td>22</td>\n",
       "      <td>71.6</td>\n",
       "      <td>agradavel</td>\n",
       "    </tr>\n",
       "    <tr>\n",
       "      <th>sabado</th>\n",
       "      <td>30</td>\n",
       "      <td>86.0</td>\n",
       "      <td>quente</td>\n",
       "    </tr>\n",
       "  </tbody>\n",
       "</table>\n",
       "</div>"
      ],
      "text/plain": [
       "        celsius  fahrenheit   sensacao\n",
       "quinta        7        44.6       frio\n",
       "sexta        22        71.6  agradavel\n",
       "sabado       30        86.0     quente"
      ]
     },
     "execution_count": 18,
     "metadata": {},
     "output_type": "execute_result"
    }
   ],
   "source": [
    "dados_temperatura"
   ]
  },
  {
   "cell_type": "markdown",
   "id": "3ef6f96f",
   "metadata": {},
   "source": [
    "## Evite linhas longas de código\n",
    "\n",
    "pode parecer mais simples, mas fica difícil de entender"
   ]
  },
  {
   "cell_type": "code",
   "execution_count": 19,
   "id": "266d2be5",
   "metadata": {},
   "outputs": [],
   "source": [
    "# retorne o máximo em fahrenheit apenas das temperaturas em celsius maiores que a média em celsius"
   ]
  },
  {
   "cell_type": "code",
   "execution_count": 20,
   "id": "30193c85",
   "metadata": {},
   "outputs": [
    {
     "data": {
      "text/plain": [
       "86.0"
      ]
     },
     "execution_count": 20,
     "metadata": {},
     "output_type": "execute_result"
    }
   ],
   "source": [
    "# EVITAR\n",
    "dados_temperatura[dados_temperatura['celsius'] >= dados_temperatura['celsius'].mean()]['fahrenheit'].max()"
   ]
  },
  {
   "cell_type": "code",
   "execution_count": 21,
   "id": "3f98ea95",
   "metadata": {},
   "outputs": [
    {
     "data": {
      "text/plain": [
       "86.0"
      ]
     },
     "execution_count": 21,
     "metadata": {},
     "output_type": "execute_result"
    }
   ],
   "source": [
    "# OK\n",
    "media_celsius = dados_temperatura['celsius'].mean()\n",
    "maiores_media_celsius = dados_temperatura[dados_temperatura['celsius'] >= media_celsius]\n",
    "maiores_media_celsius['fahrenheit'].max()"
   ]
  },
  {
   "cell_type": "markdown",
   "id": "7b2de30f",
   "metadata": {},
   "source": [
    "## Utilize uma metodologia para o seu projeto em data science"
   ]
  },
  {
   "cell_type": "markdown",
   "id": "18f50b00",
   "metadata": {},
   "source": [
    "CRISP-DM: https://www.datascience-pm.com/crisp-dm-2/"
   ]
  },
  {
   "cell_type": "markdown",
   "id": "f26cb905",
   "metadata": {},
   "source": [
    "1. Business Understanding: concentra-se na compreensão dos objetivos e requisitos do projeto.\n",
    "2. Data understanding: identificar, coletar e analisar os dados\n",
    "3. Data preparation: prepara o conjunto de dados para a modelagem, ou seja, seleção e limpeza dos dados\n",
    "4. Modeling: construi e avalia vários modelos com base em várias técnicas de modelagem diferentes\n",
    "5. Evaluation: analisa mais amplamente qual modelo atende melhor ao negócio e o que fazer em seguida\n",
    "6. Deployment: Um modelo não é útil a menos que o cliente possa acessar seus resultados."
   ]
  },
  {
   "cell_type": "code",
   "execution_count": null,
   "id": "c08c6f38",
   "metadata": {},
   "outputs": [],
   "source": []
  }
 ],
 "metadata": {
  "kernelspec": {
   "display_name": "Python 3 (ipykernel)",
   "language": "python",
   "name": "python3"
  },
  "language_info": {
   "codemirror_mode": {
    "name": "ipython",
    "version": 3
   },
   "file_extension": ".py",
   "mimetype": "text/x-python",
   "name": "python",
   "nbconvert_exporter": "python",
   "pygments_lexer": "ipython3",
   "version": "3.8.10"
  }
 },
 "nbformat": 4,
 "nbformat_minor": 5
}
